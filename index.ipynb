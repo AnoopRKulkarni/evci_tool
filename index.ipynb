{
 "cells": [
  {
   "cell_type": "markdown",
   "metadata": {},
   "source": [
    "# EVCI Siting Tool\n",
    "\n",
    "> A python based mathematical framework to assess utilization capability of EVCI sites"
   ]
  },
  {
   "cell_type": "markdown",
   "metadata": {},
   "source": [
    "## Install"
   ]
  },
  {
   "cell_type": "markdown",
   "metadata": {},
   "source": [
    "`pip install evci_tool`"
   ]
  },
  {
   "cell_type": "markdown",
   "metadata": {},
   "source": [
    "## How to use"
   ]
  },
  {
   "cell_type": "markdown",
   "metadata": {},
   "source": [
    "The model inputs are provided in the form of excel files (xlsx). The `analyze_sites()` is the entry level function and completes the analysis for specified corridor"
   ]
  },
  {
   "cell_type": "code",
   "execution_count": 1,
   "metadata": {},
   "outputs": [
    {
     "name": "stdout",
     "output_type": "stream",
     "text": [
      "\n",
      "Initial Analysis\n",
      "________________\n",
      "\n",
      "Number of sites: 244/244\n"
     ]
    },
    {
     "name": "stderr",
     "output_type": "stream",
     "text": [
      "100%|██████████| 244/244 [00:49<00:00,  4.96it/s]\n"
     ]
    },
    {
     "name": "stdout",
     "output_type": "stream",
     "text": [
      "Total capex charges = INR Cr 45.68\n",
      "Total opex charges = INR Cr 87.77\n",
      "Total Margin = INR Cr 33.53\n",
      "confirmed sites with utilization > 20%: 0\n"
     ]
    },
    {
     "data": {
      "text/html": [
       "<div>\n",
       "<style scoped>\n",
       "    .dataframe tbody tr th:only-of-type {\n",
       "        vertical-align: middle;\n",
       "    }\n",
       "\n",
       "    .dataframe tbody tr th {\n",
       "        vertical-align: top;\n",
       "    }\n",
       "\n",
       "    .dataframe thead th {\n",
       "        text-align: right;\n",
       "    }\n",
       "</style>\n",
       "<table border=\"1\" class=\"dataframe\">\n",
       "  <thead>\n",
       "    <tr style=\"text-align: right;\">\n",
       "      <th></th>\n",
       "      <th>Name</th>\n",
       "      <th>Latitude</th>\n",
       "      <th>Longitude</th>\n",
       "      <th>Traffic congestion</th>\n",
       "      <th>year 1</th>\n",
       "      <th>kiosk hoarding</th>\n",
       "      <th>hoarding margin</th>\n",
       "      <th>geometry</th>\n",
       "      <th>utilization</th>\n",
       "      <th>unserviced</th>\n",
       "      <th>capex</th>\n",
       "      <th>opex</th>\n",
       "      <th>margin</th>\n",
       "      <th>max vehicles</th>\n",
       "      <th>estimated vehicles</th>\n",
       "    </tr>\n",
       "  </thead>\n",
       "  <tbody>\n",
       "    <tr>\n",
       "      <th>0</th>\n",
       "      <td>Mahanagar Gas CNG station</td>\n",
       "      <td>19.177391</td>\n",
       "      <td>72.968405</td>\n",
       "      <td>4</td>\n",
       "      <td>1</td>\n",
       "      <td>1</td>\n",
       "      <td>15520</td>\n",
       "      <td>POINT (72.96841 19.17739)</td>\n",
       "      <td>0.096406</td>\n",
       "      <td>NaN</td>\n",
       "      <td>1872000.0</td>\n",
       "      <td>3.868338e+06</td>\n",
       "      <td>1.256811e+06</td>\n",
       "      <td>25.0</td>\n",
       "      <td>2.0</td>\n",
       "    </tr>\n",
       "    <tr>\n",
       "      <th>1</th>\n",
       "      <td>Gurukrupa Indian Oil Petrol Pump</td>\n",
       "      <td>19.138905</td>\n",
       "      <td>73.050305</td>\n",
       "      <td>4</td>\n",
       "      <td>1</td>\n",
       "      <td>1</td>\n",
       "      <td>15520</td>\n",
       "      <td>POINT (73.05031 19.13891)</td>\n",
       "      <td>0.047681</td>\n",
       "      <td>NaN</td>\n",
       "      <td>1872000.0</td>\n",
       "      <td>3.663296e+06</td>\n",
       "      <td>1.226055e+06</td>\n",
       "      <td>25.0</td>\n",
       "      <td>1.0</td>\n",
       "    </tr>\n",
       "    <tr>\n",
       "      <th>2</th>\n",
       "      <td>Mohan Warehouse</td>\n",
       "      <td>19.124338</td>\n",
       "      <td>73.054793</td>\n",
       "      <td>4</td>\n",
       "      <td>1</td>\n",
       "      <td>1</td>\n",
       "      <td>15520</td>\n",
       "      <td>POINT (73.05479 19.12434)</td>\n",
       "      <td>0.001121</td>\n",
       "      <td>NaN</td>\n",
       "      <td>1872000.0</td>\n",
       "      <td>3.469664e+06</td>\n",
       "      <td>1.197010e+06</td>\n",
       "      <td>25.0</td>\n",
       "      <td>0.0</td>\n",
       "    </tr>\n",
       "    <tr>\n",
       "      <th>3</th>\n",
       "      <td>HP petrol pump</td>\n",
       "      <td>19.122921</td>\n",
       "      <td>73.054856</td>\n",
       "      <td>4</td>\n",
       "      <td>1</td>\n",
       "      <td>1</td>\n",
       "      <td>15520</td>\n",
       "      <td>POINT (73.05486 19.12292)</td>\n",
       "      <td>0.000676</td>\n",
       "      <td>NaN</td>\n",
       "      <td>1872000.0</td>\n",
       "      <td>3.467810e+06</td>\n",
       "      <td>1.196732e+06</td>\n",
       "      <td>25.0</td>\n",
       "      <td>0.0</td>\n",
       "    </tr>\n",
       "    <tr>\n",
       "      <th>4</th>\n",
       "      <td>Bharat Petroleum Petrol Pump</td>\n",
       "      <td>19.119491</td>\n",
       "      <td>73.056161</td>\n",
       "      <td>4</td>\n",
       "      <td>1</td>\n",
       "      <td>1</td>\n",
       "      <td>15520</td>\n",
       "      <td>POINT (73.05616 19.11949)</td>\n",
       "      <td>0.000549</td>\n",
       "      <td>NaN</td>\n",
       "      <td>1872000.0</td>\n",
       "      <td>3.467281e+06</td>\n",
       "      <td>1.196653e+06</td>\n",
       "      <td>25.0</td>\n",
       "      <td>0.0</td>\n",
       "    </tr>\n",
       "  </tbody>\n",
       "</table>\n",
       "</div>"
      ],
      "text/plain": [
       "                               Name   Latitude  Longitude  Traffic congestion  \\\n",
       "0         Mahanagar Gas CNG station  19.177391  72.968405                   4   \n",
       "1  Gurukrupa Indian Oil Petrol Pump  19.138905  73.050305                   4   \n",
       "2                   Mohan Warehouse  19.124338  73.054793                   4   \n",
       "3                    HP petrol pump  19.122921  73.054856                   4   \n",
       "4     Bharat Petroleum Petrol Pump   19.119491  73.056161                   4   \n",
       "\n",
       "   year 1  kiosk hoarding  hoarding margin                   geometry  \\\n",
       "0       1               1            15520  POINT (72.96841 19.17739)   \n",
       "1       1               1            15520  POINT (73.05031 19.13891)   \n",
       "2       1               1            15520  POINT (73.05479 19.12434)   \n",
       "3       1               1            15520  POINT (73.05486 19.12292)   \n",
       "4       1               1            15520  POINT (73.05616 19.11949)   \n",
       "\n",
       "   utilization  unserviced      capex          opex        margin  \\\n",
       "0     0.096406         NaN  1872000.0  3.868338e+06  1.256811e+06   \n",
       "1     0.047681         NaN  1872000.0  3.663296e+06  1.226055e+06   \n",
       "2     0.001121         NaN  1872000.0  3.469664e+06  1.197010e+06   \n",
       "3     0.000676         NaN  1872000.0  3.467810e+06  1.196732e+06   \n",
       "4     0.000549         NaN  1872000.0  3.467281e+06  1.196653e+06   \n",
       "\n",
       "   max vehicles  estimated vehicles  \n",
       "0          25.0                 2.0  \n",
       "1          25.0                 1.0  \n",
       "2          25.0                 0.0  \n",
       "3          25.0                 0.0  \n",
       "4          25.0                 0.0  "
      ]
     },
     "execution_count": 1,
     "metadata": {},
     "output_type": "execute_result"
    }
   ],
   "source": [
    "#|example usage\n",
    "\n",
    "from evci_tool.config import *\n",
    "from evci_tool.model import *\n",
    "from evci_tool.analysis import *\n",
    "\n",
    "ui_inputs = { \n",
    "    \"backoff_factor\": 1,\n",
    "    \"M\": [\"3WS\", \"4WS\", \"4WF\"],\n",
    "    \"years_of_analysis\": [1,2,3],\n",
    "    \"capex_3WS\": 112000,\n",
    "    \"capex_4WS\": 250000,\n",
    "    \"capex_4WF\": 1500000,\n",
    "    \"hoarding cost\": 900000,\n",
    "    \"kiosk_cost\": 180000,\n",
    "    \"year1_conversion\": 0.02,\n",
    "    \"year2_conversion\": 0.05,\n",
    "    \"year3_conversion\": 0.1,\n",
    "    \"holiday_percentage\": 0.3,\n",
    "    \"fast_charging\": 0.3,\n",
    "    \"slow_charging\": 0.15,\n",
    "    \"cluster\": False,\n",
    "    \"cluster_th\": 0.2,\n",
    "    \"plot_dendrogram\": False,\n",
    "    \"use_defaults\": False \n",
    "}\n",
    "\n",
    "\n",
    "u_df = analyze_sites ('mumbai_goa',ui_inputs)\n",
    "u_df.head()"
   ]
  },
  {
   "cell_type": "code",
   "execution_count": null,
   "metadata": {},
   "outputs": [],
   "source": []
  }
 ],
 "metadata": {
  "kernelspec": {
   "display_name": "Python 3.8.5 64-bit ('evci')",
   "language": "python",
   "name": "python3"
  },
  "language_info": {
   "codemirror_mode": {
    "name": "ipython",
    "version": 3
   },
   "file_extension": ".py",
   "mimetype": "text/x-python",
   "name": "python",
   "nbconvert_exporter": "python",
   "pygments_lexer": "ipython3",
   "version": "3.8.5"
  },
  "vscode": {
   "interpreter": {
    "hash": "52e642d4bc6e81e75f918cf601901ef1a0fc853a0a8837d5d03c72369d7a0adb"
   }
  }
 },
 "nbformat": 4,
 "nbformat_minor": 4
}
